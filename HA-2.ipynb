{
 "cells": [
  {
   "cell_type": "markdown",
   "metadata": {},
   "source": [
    "# ML HA-2 #\n",
    "## by Ivan Senilov (1787618) ##\n",
    "\n",
    "The goal of this HA is to create an images classifier for boats navigating in Venice, Italy. The [MarDCT dataset](http://www.dis.uniroma1.it/~labrococo/MAR/classification.htm) [1] is used for the purpose and needs to be unzipped in the working directory.\n",
    "\n",
    "Let's import libraries for working with data:"
   ]
  },
  {
   "cell_type": "code",
   "execution_count": 1,
   "metadata": {},
   "outputs": [],
   "source": [
    "import pandas as pd\n",
    "import numpy as np\n",
    "%matplotlib inline\n",
    "from matplotlib import pyplot as plt"
   ]
  },
  {
   "cell_type": "markdown",
   "metadata": {},
   "source": [
    "Load the data and look how much instances of each class in it. The most represented class (besides water snapshot) is the \"Vaporetto ACTV\". We will take it for our one-vs-all classifier (not because it is easier to implement but because the dataset is not consistent in terms of class names in training and testing sets). The multiclass classifier was realized by me in HW1, so it shouldn't create any difficulties in case of consistent label names."
   ]
  },
  {
   "cell_type": "code",
   "execution_count": 2,
   "metadata": {
    "scrolled": false
   },
   "outputs": [
    {
     "data": {
      "text/plain": [
       "Snapshot Acqua                     420\n",
       "Vaporetto ACTV                     325\n",
       "Mototopo                           274\n",
       "Lancia: fino 10 m Bianca           217\n",
       "Snapshot Barca Multipla            171\n",
       "Lancia: fino 10 m Marrone          125\n",
       "Snapshot Barca Parziale            116\n",
       "Patanella                           74\n",
       "Motobarca                           59\n",
       "Barchino                            51\n",
       "Topa                                29\n",
       "Ambulanza                           22\n",
       "Raccolta rifiuti                    19\n",
       "Alilaguna                           19\n",
       "Polizia                             15\n",
       "Mototopo corto                      10\n",
       "Lancia: fino 10 m                    7\n",
       "Lancia: maggiore di 10 m Bianca      6\n",
       "Motopontone rettangolare             3\n",
       "Sandolo a remi                       3\n",
       "Gondola                              3\n",
       "Motoscafo ACTV                       1\n",
       "Name: 1, dtype: int64"
      ]
     },
     "execution_count": 2,
     "metadata": {},
     "output_type": "execute_result"
    }
   ],
   "source": [
    "# %%time\n",
    "test_data = pd.read_csv(\"sc5-2013-Mar-Apr-Test-20130412/ground_truth.txt\", sep=\";\", header=None)\n",
    "\n",
    "test_data = test_data.set_index(0) \n",
    "test_data[1].value_counts()\n",
    "\n",
    "# types = sorted([i.replace(\" \", \"\").replace(\":\", \"\") for i in test_data[1].value_counts().index.values.tolist()])\n"
   ]
  },
  {
   "cell_type": "markdown",
   "metadata": {},
   "source": [
    "Populating test set with pictures according to given `.csv` file.\n",
    "\n",
    "The pictures are resized from original shape of `(240, 800, 3)` to 10-times smaller `(24, 80, 3)` due to memory constraints. Alternatively, we could use Python generator to train model on batches to avoid loading the full dataset in RAM."
   ]
  },
  {
   "cell_type": "code",
   "execution_count": 4,
   "metadata": {
    "scrolled": true
   },
   "outputs": [
    {
     "name": "stderr",
     "output_type": "stream",
     "text": [
      "Using TensorFlow backend.\n"
     ]
    }
   ],
   "source": [
    "import os\n",
    "from imageio import imread\n",
    "from skimage.transform import resize\n",
    "from keras.utils import to_categorical\n",
    "\n",
    "X_test = []\n",
    "Y_test = []\n",
    "\n",
    "for filename in test_data.index.values: # os.listdir(\"sc5-2013-Mar-Apr-Test-20130412/\"):\n",
    "    if filename.endswith(\".jpg\"):   \n",
    "        X_test.append(resize(imread(os.path.join(\"sc5-2013-Mar-Apr-Test-20130412/\", filename)), (24,80), mode='reflect'))\n",
    "        if (test_data[1][filename] == \"Vaporetto ACTV\"):\n",
    "            Y_test.append(1)\n",
    "        else:\n",
    "            Y_test.append(0)\n",
    "\n",
    "X_test = np.array(X_test)\n",
    "Y_test = np.array(Y_test)\n",
    "Y_test = to_categorical(Y_test)"
   ]
  },
  {
   "cell_type": "markdown",
   "metadata": {},
   "source": [
    "Let's have a look at several pictures from the loaded set:"
   ]
  },
  {
   "cell_type": "code",
   "execution_count": 5,
   "metadata": {},
   "outputs": [
    {
     "data": {
      "image/png": "[encoded data removed]",
      "text/plain": [
       "<matplotlib.figure.Figure at 0x7fe657753e48>"
      ]
     },
     "metadata": {},
     "output_type": "display_data"
    }
   ],
   "source": [
    "plt.figure(figsize=(20,10))\n",
    "columns = 5\n",
    "for i, image in enumerate(X_test[100:105]):\n",
    "    plt.subplot(5, 5, i + 1)\n",
    "    plt.imshow(image)"
   ]
  },
  {
   "cell_type": "markdown",
   "metadata": {},
   "source": [
    "Loading training dataset, resizing images and labeling respective boats as described above."
   ]
  },
  {
   "cell_type": "code",
   "execution_count": 6,
   "metadata": {},
   "outputs": [],
   "source": [
    "X_train = []\n",
    "Y_train = []\n",
    "\n",
    "for dirname in os.listdir(\"sc5/\"):\n",
    "    dirn = os.path.join(\"sc5/\", dirname)\n",
    "    if os.path.isdir(dirn):\n",
    "        for filename in os.listdir(dirn):\n",
    "            X_train.append(resize(imread(os.path.join(dirn, filename)), (24,80), mode='reflect'))\n",
    "            if dirname == \"VaporettoACTV\":\n",
    "                Y_train.append(1)\n",
    "            else:\n",
    "                Y_train.append(0)\n",
    "\n",
    "X_train = np.array(X_train)\n",
    "Y_train = np.array(Y_train)\n",
    "\n",
    "Y_train = to_categorical(Y_train)"
   ]
  },
  {
   "cell_type": "markdown",
   "metadata": {},
   "source": [
    "Lets write short callback for recording the progress during the training. Basically, it evaluates the model after each epoch on test data and we will be able look at the graphs later on."
   ]
  },
  {
   "cell_type": "code",
   "execution_count": 10,
   "metadata": {},
   "outputs": [],
   "source": [
    "from keras.callbacks import Callback\n",
    "\n",
    "class TestCallback(Callback):\n",
    "    def __init__(self, test_data):\n",
    "        self.test_data = test_data\n",
    "\n",
    "    def on_epoch_end(self, epoch, logs={}):\n",
    "        x, y = self.test_data\n",
    "        loss, acc = self.model.evaluate(x, y, verbose=0)\n",
    "        log_filename = \"log.csv\"\n",
    "        with open(log_filename, \"a\") as log:\n",
    "            log.write(\"{},{},{},{},{}\\n\".format(epoch, loss, acc, logs[\"loss\"], logs[\"acc\"]))\n",
    "            \n",
    "\n",
    "testCallback = TestCallback((X_test, Y_test))"
   ]
  },
  {
   "cell_type": "markdown",
   "metadata": {},
   "source": [
    "First we try simple Convolutional Neural Network with 2 layers, 16 filters in each with 4x4 kernel size."
   ]
  },
  {
   "cell_type": "code",
   "execution_count": 13,
   "metadata": {},
   "outputs": [
    {
     "name": "stdout",
     "output_type": "stream",
     "text": [
      "_________________________________________________________________\n",
      "Layer (type)                 Output Shape              Param #   \n",
      "=================================================================\n",
      "conv2d_7 (Conv2D)            (None, 21, 77, 16)        784       \n",
      "_________________________________________________________________\n",
      "conv2d_8 (Conv2D)            (None, 18, 74, 16)        4112      \n",
      "_________________________________________________________________\n",
      "global_max_pooling2d_4 (Glob (None, 16)                0         \n",
      "_________________________________________________________________\n",
      "dense_4 (Dense)              (None, 2)                 34        \n",
      "=================================================================\n",
      "Total params: 4,930\n",
      "Trainable params: 4,930\n",
      "Non-trainable params: 0\n",
      "_________________________________________________________________\n",
      "Accuracy 0.959878110958 \n",
      "\n",
      "\n",
      "             precision    recall  f1-score   support\n",
      "\n",
      "          0       0.99      0.96      0.98      1644\n",
      "          1       0.82      0.97      0.89       325\n",
      "\n",
      "avg / total       0.97      0.96      0.96      1969\n",
      " \n",
      "\n",
      "\n"
     ]
    }
   ],
   "source": [
    "from keras.models import Sequential\n",
    "from keras.layers import Input, Conv2D, Dense, Dropout, GlobalMaxPooling2D\n",
    "from sklearn.metrics import classification_report\n",
    "\n",
    "model = Sequential()\n",
    "model.add(Conv2D(16, 4, activation='relu', input_shape=X_train.shape[1:]))\n",
    "model.add(Conv2D(16, 4, activation='relu'))\n",
    "model.add(GlobalMaxPooling2D())\n",
    "model.add(Dense(2, activation='softmax'))\n",
    "\n",
    "model.compile(loss='categorical_crossentropy',\n",
    "              optimizer='adam',\n",
    "              metrics=['accuracy'])\n",
    "model.summary()\n",
    "\n",
    "model.fit(X_train, Y_train, epochs=100, batch_size=128, verbose=0, callbacks=[testCallback])\n",
    "Y_pred = to_categorical(np.argmax(model.predict(X_test),axis=-1))\n",
    "print(\"Accuracy\", model.evaluate(X_test, Y_test, batch_size=128, verbose=0)[1], \"\\n\\n\")\n",
    "print(classification_report(Y_test, Y_pred), \"\\n\\n\")\n"
   ]
  },
  {
   "cell_type": "markdown",
   "metadata": {
    "collapsed": true
   },
   "source": [
    "Simple Convolutional Neural Network with 3 layers gives us 97% accuracy but only 82% precision w.r.t. target class due to unbalanced dataset.\n",
    "\n",
    "Let's look at the graphs of loss and accuracy during the training.\n",
    "\n",
    "<img src=\"chart.png\">"
   ]
  },
  {
   "cell_type": "markdown",
   "metadata": {},
   "source": [
    "Apparently, there is an evidence of overfitting. Let's try to make network a little bit deeper and add regularization (dropout)."
   ]
  },
  {
   "cell_type": "code",
   "execution_count": 19,
   "metadata": {},
   "outputs": [
    {
     "name": "stdout",
     "output_type": "stream",
     "text": [
      "_________________________________________________________________\n",
      "Layer (type)                 Output Shape              Param #   \n",
      "=================================================================\n",
      "conv2d_22 (Conv2D)           (None, 23, 79, 16)        208       \n",
      "_________________________________________________________________\n",
      "max_pooling2d_9 (MaxPooling2 (None, 11, 39, 16)        0         \n",
      "_________________________________________________________________\n",
      "dropout_9 (Dropout)          (None, 11, 39, 16)        0         \n",
      "_________________________________________________________________\n",
      "conv2d_23 (Conv2D)           (None, 8, 36, 16)         4112      \n",
      "_________________________________________________________________\n",
      "max_pooling2d_10 (MaxPooling (None, 4, 18, 16)         0         \n",
      "_________________________________________________________________\n",
      "dropout_10 (Dropout)         (None, 4, 18, 16)         0         \n",
      "_________________________________________________________________\n",
      "conv2d_24 (Conv2D)           (None, 1, 15, 32)         8224      \n",
      "_________________________________________________________________\n",
      "global_max_pooling2d_7 (Glob (None, 32)                0         \n",
      "_________________________________________________________________\n",
      "dense_7 (Dense)              (None, 2)                 66        \n",
      "=================================================================\n",
      "Total params: 12,610\n",
      "Trainable params: 12,610\n",
      "Non-trainable params: 0\n",
      "_________________________________________________________________\n",
      "Accuracy 0.973590655155 \n",
      "\n",
      "\n",
      "             precision    recall  f1-score   support\n",
      "\n",
      "          0       1.00      0.97      0.98      1644\n",
      "          1       0.87      0.99      0.93       325\n",
      "\n",
      "avg / total       0.98      0.97      0.97      1969\n",
      " \n",
      "\n",
      "\n"
     ]
    }
   ],
   "source": [
    "from keras.layers import MaxPooling2D\n",
    "\n",
    "model = Sequential()\n",
    "model.add(Conv2D(16, 2, activation='relu', input_shape=X_train.shape[1:]))\n",
    "model.add(MaxPooling2D((2, 2)))\n",
    "model.add(Dropout(0.5))\n",
    "model.add(Conv2D(16, 4, activation='relu'))\n",
    "model.add(MaxPooling2D((2, 2)))\n",
    "model.add(Dropout(0.5))\n",
    "model.add(Conv2D(32, 4, activation='relu'))\n",
    "model.add(GlobalMaxPooling2D())\n",
    "model.add(Dense(2, activation='softmax'))\n",
    "\n",
    "model.compile(loss='categorical_crossentropy',\n",
    "              optimizer='adam',\n",
    "              metrics=['accuracy'])\n",
    "model.summary()\n",
    "\n",
    "model.fit(X_train, Y_train, epochs=100, batch_size=128, verbose=0, callbacks=[testCallback])\n",
    "Y_pred = to_categorical(np.argmax(model.predict(X_test),axis=-1))\n",
    "print(\"Accuracy\", model.evaluate(X_test, Y_test, batch_size=128, verbose=0)[1], \"\\n\\n\")\n",
    "print(classification_report(Y_test, Y_pred), \"\\n\\n\")"
   ]
  },
  {
   "cell_type": "markdown",
   "metadata": {},
   "source": [
    "There is clear improvement in accuracy and especially in recall, let's look at the graph for this network.\n",
    "\n",
    "<img src=\"chart-1.png\">"
   ]
  },
  {
   "cell_type": "markdown",
   "metadata": {},
   "source": [
    "As seen from the second graph, the model still overfits but less and we can call it improvement."
   ]
  },
  {
   "cell_type": "markdown",
   "metadata": {},
   "source": [
    "## Conclusion ##\n",
    "\n",
    "In this work, I explored the MarDCT dataset and built the classifier which can recognize on particular boat among many others. Two CNN architectures were tested and it was shown that regularization and deepening of network improves classification performance."
   ]
  },
  {
   "cell_type": "markdown",
   "metadata": {},
   "source": [
    "References:\n",
    "\n",
    "1. Bloisi, Domenico D.; Iocchi, Luca; Pennisi, Andrea; Tombolini, Luigi, \"ARGOS-Venice Boat Classification,\" in 12th IEEE International Conference on Advanced Video and Signal Based Surveillance (AVSS), 2015, pp.1-6, 2015. doi: 10.1109/AVSS.2015.7301727 "
   ]
  }
 ],
 "metadata": {
  "kernelspec": {
   "display_name": "Python 3",
   "language": "python",
   "name": "python3"
  },
  "language_info": {
   "codemirror_mode": {
    "name": "ipython",
    "version": 3
   },
   "file_extension": ".py",
   "mimetype": "text/x-python",
   "name": "python",
   "nbconvert_exporter": "python",
   "pygments_lexer": "ipython3",
   "version": "3.6.3"
  }
 },
 "nbformat": 4,
 "nbformat_minor": 2
}
